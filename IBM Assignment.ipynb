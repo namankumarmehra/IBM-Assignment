{
 "cells": [
  {
   "cell_type": "markdown",
   "id": "da11500f-f940-4000-beb4-03eafb5e86b4",
   "metadata": {},
   "source": [
    "## Peer-graded Assignment"
   ]
  },
  {
   "cell_type": "code",
   "execution_count": null,
   "id": "b40f173d-0809-4e94-8eba-2e7d439e0b19",
   "metadata": {},
   "outputs": [],
   "source": []
  },
  {
   "cell_type": "markdown",
   "id": "aa0861ae-4fda-4425-a87a-d8a35a224c6c",
   "metadata": {},
   "source": [
    "## Introduction\n",
    "\n",
    "This notebook is part of the final project for the Data Science course. It showcases various aspects of data science, including languages, libraries, tools, arithmetic operations, and more. Through this notebook, I aim to demonstrate my understanding and proficiency in data science concepts and practices."
   ]
  },
  {
   "cell_type": "markdown",
   "id": "18dc97e1-bfb4-4202-aa5f-d32499c7c92c",
   "metadata": {},
   "source": [
    "## Data Science Languages\n",
    "\n",
    "- Python\n",
    "- R\n",
    "- SQL\n",
    "- Julia\n",
    "- Java"
   ]
  },
  {
   "cell_type": "markdown",
   "id": "f731b6e0-2e76-4a0d-806c-13bebbdd92e8",
   "metadata": {},
   "source": [
    "## Data Science Libraries\n",
    "\n",
    "- Pandas\n",
    "- NumPy\n",
    "- Matplotlib\n",
    "- Seaborn\n",
    "- TensorFlow\n",
    "- Scikit-learn"
   ]
  },
  {
   "cell_type": "markdown",
   "id": "f38d3fa2-c97a-4bde-8abf-b201297bcfbf",
   "metadata": {},
   "source": [
    "## Data Science Tools\n",
    "\n",
    "| Tool            | Type       | Purpose                                      |\n",
    "|-----------------|------------|----------------------------------------------|\n",
    "| Jupyter         | IDE        | Open-source web application for data science |\n",
    "| GitHub          | Version Control | Collaboration and code management           |\n",
    "| Tableau         | Visualization | Business intelligence and data visualization|\n",
    "| Excel           | Spreadsheet | Data analysis and management                 |\n",
    "| Python          | Programming Language | Data manipulation and analysis           |"
   ]
  },
  {
   "cell_type": "markdown",
   "id": "6f44cb4e-eee1-43e8-81e7-01c1f83cfece",
   "metadata": {},
   "source": [
    "## Arithmetic Expression Examples"
   ]
  },
  {
   "cell_type": "markdown",
   "id": "410bd5e4-1d2d-461e-8c48-0f0bee2cdf4a",
   "metadata": {
    "tags": []
   },
   "source": [
    "1. Addition: Adding two numbers"
   ]
  },
  {
   "cell_type": "code",
   "execution_count": 4,
   "id": "f393d47c-9e47-4b54-a2d6-4c6890faf28a",
   "metadata": {
    "tags": []
   },
   "outputs": [
    {
     "data": {
      "text/plain": [
       "7"
      ]
     },
     "execution_count": 4,
     "metadata": {},
     "output_type": "execute_result"
    }
   ],
   "source": [
    "4+3"
   ]
  },
  {
   "cell_type": "markdown",
   "id": "660718ab-8380-4ee6-9874-6b22b0d06021",
   "metadata": {},
   "source": [
    "2. Subtraction: Subtracting one number from another\n"
   ]
  },
  {
   "cell_type": "code",
   "execution_count": 5,
   "id": "fd0d691d-72f0-47fc-8cd9-4e0d747904e5",
   "metadata": {
    "tags": []
   },
   "outputs": [
    {
     "data": {
      "text/plain": [
       "1"
      ]
     },
     "execution_count": 5,
     "metadata": {},
     "output_type": "execute_result"
    }
   ],
   "source": [
    "4-3"
   ]
  },
  {
   "cell_type": "markdown",
   "id": "703f4c04-0fcd-4634-a301-d75a9da1f7b2",
   "metadata": {},
   "source": [
    "3. Multiplication: Multiplying two numbers"
   ]
  },
  {
   "cell_type": "code",
   "execution_count": 6,
   "id": "92b561fa-0638-45aa-a6c2-8172d65f65ef",
   "metadata": {
    "tags": []
   },
   "outputs": [
    {
     "data": {
      "text/plain": [
       "12"
      ]
     },
     "execution_count": 6,
     "metadata": {},
     "output_type": "execute_result"
    }
   ],
   "source": [
    "4*3"
   ]
  },
  {
   "cell_type": "markdown",
   "id": "0333346e-01a8-4b60-8784-3d113a50ad8b",
   "metadata": {
    "tags": []
   },
   "source": [
    "4. Division: Dividing one number by another"
   ]
  },
  {
   "cell_type": "code",
   "execution_count": 8,
   "id": "26734664-3c56-4d70-84fb-e71560c595b7",
   "metadata": {
    "tags": []
   },
   "outputs": [
    {
     "data": {
      "text/plain": [
       "4.0"
      ]
     },
     "execution_count": 8,
     "metadata": {},
     "output_type": "execute_result"
    }
   ],
   "source": [
    "8/2"
   ]
  },
  {
   "cell_type": "markdown",
   "id": "761fae2e-1af6-46d7-b9d7-4219e31f3736",
   "metadata": {},
   "source": [
    "## Multiplying and adding numbers"
   ]
  },
  {
   "cell_type": "code",
   "execution_count": 10,
   "id": "4e982bbb-3d7f-4feb-be48-3be52896ec29",
   "metadata": {
    "tags": []
   },
   "outputs": [
    {
     "data": {
      "text/plain": [
       "52"
      ]
     },
     "execution_count": 10,
     "metadata": {},
     "output_type": "execute_result"
    }
   ],
   "source": [
    "a = 5\n",
    "b = 10\n",
    "result = a * b + 2\n",
    "result"
   ]
  },
  {
   "cell_type": "markdown",
   "id": "3fd25e12-73ab-4717-bb22-7594048a8aed",
   "metadata": {},
   "source": [
    "## Convert minutes to hours"
   ]
  },
  {
   "cell_type": "code",
   "execution_count": 11,
   "id": "ee1ea04e-d643-46cf-957c-0cbda3472d4a",
   "metadata": {
    "tags": []
   },
   "outputs": [
    {
     "data": {
      "text/plain": [
       "2.0"
      ]
     },
     "execution_count": 11,
     "metadata": {},
     "output_type": "execute_result"
    }
   ],
   "source": [
    "minutes = 120\n",
    "hours = minutes / 60\n",
    "hours"
   ]
  },
  {
   "cell_type": "markdown",
   "id": "839a309a-3ca0-425b-8b4d-ae554e344f95",
   "metadata": {},
   "source": [
    "## Objectives\n",
    "\n",
    "- Understand the different data science languages and libraries.\n",
    "- Learn how to use tools for data analysis and visualization.\n",
    "- Perform arithmetic operations and convert units using Python.\n",
    "- Demonstrate the ability to share and collaborate on data science projects"
   ]
  },
  {
   "cell_type": "markdown",
   "id": "9947efc1-75da-45ac-8c34-fc70addc0625",
   "metadata": {},
   "source": [
    "## Author’s name"
   ]
  },
  {
   "cell_type": "markdown",
   "id": "37cc0994-3766-4f8b-8167-63f37ccf15a4",
   "metadata": {},
   "source": [
    "This notebook was created by Naman Kumar."
   ]
  },
  {
   "cell_type": "code",
   "execution_count": null,
   "id": "baf790ad-6059-4ddd-b26a-4c4296c80f41",
   "metadata": {},
   "outputs": [],
   "source": []
  }
 ],
 "metadata": {
  "kernelspec": {
   "display_name": "Python 3 (ipykernel)",
   "language": "python",
   "name": "python3"
  },
  "language_info": {
   "codemirror_mode": {
    "name": "ipython",
    "version": 3
   },
   "file_extension": ".py",
   "mimetype": "text/x-python",
   "name": "python",
   "nbconvert_exporter": "python",
   "pygments_lexer": "ipython3",
   "version": "3.11.5"
  }
 },
 "nbformat": 4,
 "nbformat_minor": 5
}
